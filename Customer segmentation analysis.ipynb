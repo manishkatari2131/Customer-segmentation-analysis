{
  "nbformat": 4,
  "nbformat_minor": 0,
  "metadata": {
    "colab": {
      "provenance": [],
      "collapsed_sections": [
        "40nOqOem40Yr"
      ]
    },
    "kernelspec": {
      "name": "python3",
      "display_name": "Python 3"
    },
    "language_info": {
      "name": "python"
    }
  },
  "cells": [
    {
      "cell_type": "code",
      "execution_count": null,
      "metadata": {
        "id": "z83aH6O8Vclg"
      },
      "outputs": [],
      "source": [
        "# Importing necessary libraries\n",
        "import pandas as pd\n",
        "import numpy as np\n",
        "import matplotlib.pyplot as plt\n",
        "import seaborn as sns\n",
        "\n",
        "# Load dataset\n",
        "Data = pd.read_csv('DAB_303_In class Group_Presentaion_Group 2_Loan_default orignal.csv')"
      ]
    },
    {
      "cell_type": "code",
      "source": [
        "# Exploratory Data Analysis (EDA)\n",
        "print(Data.info())  # Display data types and non-null counts\n"
      ],
      "metadata": {
        "colab": {
          "base_uri": "https://localhost:8080/"
        },
        "id": "B86HmuJuVhRL",
        "outputId": "b6764b35-d55d-42b7-c483-cd9ee5e62690"
      },
      "execution_count": null,
      "outputs": [
        {
          "output_type": "stream",
          "name": "stdout",
          "text": [
            "<class 'pandas.core.frame.DataFrame'>\n",
            "RangeIndex: 150936 entries, 0 to 150935\n",
            "Data columns (total 18 columns):\n",
            " #   Column          Non-Null Count   Dtype  \n",
            "---  ------          --------------   -----  \n",
            " 0   LoanID          150936 non-null  object \n",
            " 1   Age             150936 non-null  int64  \n",
            " 2   Income          150936 non-null  int64  \n",
            " 3   LoanAmount      150936 non-null  int64  \n",
            " 4   CreditScore     150936 non-null  int64  \n",
            " 5   MonthsEmployed  150936 non-null  int64  \n",
            " 6   NumCreditLines  150936 non-null  int64  \n",
            " 7   InterestRate    150936 non-null  float64\n",
            " 8   LoanTerm        150936 non-null  int64  \n",
            " 9   DTIRatio        150936 non-null  float64\n",
            " 10  Education       150936 non-null  object \n",
            " 11  EmploymentType  150936 non-null  object \n",
            " 12  MaritalStatus   150936 non-null  object \n",
            " 13  HasMortgage     150935 non-null  object \n",
            " 14  HasDependents   150935 non-null  object \n",
            " 15  LoanPurpose     150935 non-null  object \n",
            " 16  HasCoSigner     150935 non-null  object \n",
            " 17  Default         150935 non-null  float64\n",
            "dtypes: float64(3), int64(7), object(8)\n",
            "memory usage: 20.7+ MB\n",
            "None\n"
          ]
        }
      ]
    },
    {
      "cell_type": "code",
      "source": [
        "print(\"\\nFirst 5 rows of data:\")\n",
        "print(Data.head())\n",
        "\n",
        "# Checking for missing values\n",
        "print(\"\\nMissing values:\")\n",
        "print(Data.isnull().sum())\n",
        "\n",
        "# Drop rows with missing values (simplified for this example)\n",
        "df = Data.dropna()"
      ],
      "metadata": {
        "colab": {
          "base_uri": "https://localhost:8080/"
        },
        "id": "DyQeUf4wWA3E",
        "outputId": "f22b9d9d-0c85-4a65-f37a-e53d920a3d53"
      },
      "execution_count": null,
      "outputs": [
        {
          "output_type": "stream",
          "name": "stdout",
          "text": [
            "\n",
            "First 5 rows of data:\n",
            "       LoanID  Age  Income  LoanAmount  CreditScore  MonthsEmployed  \\\n",
            "0  I38PQUQS96   56   85994       50587          520              80   \n",
            "1  HPSK72WA7R   69   50432      124440          458              15   \n",
            "2  C1OZ6DPJ8Y   46   84208      129188          451              26   \n",
            "3  V2KKSFM3UN   32   31713       44799          743               0   \n",
            "4  EY08JDHTZP   60   20437        9139          633               8   \n",
            "\n",
            "   NumCreditLines  InterestRate  LoanTerm  DTIRatio    Education  \\\n",
            "0               4         15.23        36      0.44   Bachelor's   \n",
            "1               1          4.81        60      0.68     Master's   \n",
            "2               3         21.17        24      0.31     Master's   \n",
            "3               3          7.07        24      0.23  High School   \n",
            "4               4          6.51        48      0.73   Bachelor's   \n",
            "\n",
            "  EmploymentType MaritalStatus HasMortgage HasDependents LoanPurpose  \\\n",
            "0      Full-time      Divorced         Yes           Yes       Other   \n",
            "1      Full-time       Married          No            No       Other   \n",
            "2     Unemployed      Divorced         Yes           Yes        Auto   \n",
            "3      Full-time       Married          No            No    Business   \n",
            "4     Unemployed      Divorced          No           Yes        Auto   \n",
            "\n",
            "  HasCoSigner  Default  \n",
            "0         Yes      0.0  \n",
            "1         Yes      0.0  \n",
            "2          No      1.0  \n",
            "3          No      0.0  \n",
            "4          No      0.0  \n",
            "\n",
            "Missing values:\n",
            "LoanID            0\n",
            "Age               0\n",
            "Income            0\n",
            "LoanAmount        0\n",
            "CreditScore       0\n",
            "MonthsEmployed    0\n",
            "NumCreditLines    0\n",
            "InterestRate      0\n",
            "LoanTerm          0\n",
            "DTIRatio          0\n",
            "Education         0\n",
            "EmploymentType    0\n",
            "MaritalStatus     0\n",
            "HasMortgage       1\n",
            "HasDependents     1\n",
            "LoanPurpose       1\n",
            "HasCoSigner       1\n",
            "Default           1\n",
            "dtype: int64\n"
          ]
        }
      ]
    },
    {
      "cell_type": "code",
      "source": [
        "# Check the data types of all columns\n",
        "print(Data.dtypes)\n",
        "\n",
        "# Identify categorical columns\n",
        "categorical_columns = Data.select_dtypes(exclude=[np.number]).columns\n",
        "print(f\"Categorical columns: {categorical_columns}\")"
      ],
      "metadata": {
        "colab": {
          "base_uri": "https://localhost:8080/"
        },
        "id": "T8XUpZadZeL4",
        "outputId": "1813c247-0248-44b0-cebb-a07400c687ee"
      },
      "execution_count": null,
      "outputs": [
        {
          "output_type": "stream",
          "name": "stdout",
          "text": [
            "LoanID             object\n",
            "Age                 int64\n",
            "Income              int64\n",
            "LoanAmount          int64\n",
            "CreditScore         int64\n",
            "MonthsEmployed      int64\n",
            "NumCreditLines      int64\n",
            "InterestRate      float64\n",
            "LoanTerm            int64\n",
            "DTIRatio          float64\n",
            "Education          object\n",
            "EmploymentType     object\n",
            "MaritalStatus      object\n",
            "HasMortgage        object\n",
            "HasDependents      object\n",
            "LoanPurpose        object\n",
            "HasCoSigner        object\n",
            "Default           float64\n",
            "dtype: object\n",
            "Categorical columns: Index(['LoanID', 'Education', 'EmploymentType', 'MaritalStatus', 'HasMortgage',\n",
            "       'HasDependents', 'LoanPurpose', 'HasCoSigner'],\n",
            "      dtype='object')\n"
          ]
        }
      ]
    },
    {
      "cell_type": "code",
      "source": [
        "import numpy as np\n",
        "import pandas as pd\n",
        "import joblib\n",
        "from sklearn.preprocessing import StandardScaler, OneHotEncoder\n",
        "from sklearn.compose import ColumnTransformer\n",
        "from sklearn.pipeline import Pipeline\n",
        "from sklearn.linear_model import LogisticRegression\n",
        "from sklearn.ensemble import RandomForestClassifier, GradientBoostingClassifier\n",
        "from sklearn.impute import SimpleImputer\n",
        "from sklearn.model_selection import train_test_split\n",
        "from sklearn.metrics import accuracy_score\n",
        "\n",
        "# Load dataset\n",
        "df = pd.read_csv('DAB_303_In class Group_Presentaion_Group 2_Loan_default.csv')\n",
        "\n",
        "# Impute missing numerical values with the median\n",
        "num_imputer = SimpleImputer(strategy=\"median\")\n",
        "df[['Age', 'Income', 'LoanAmount', 'CreditScore', 'MonthsEmployed', 'NumCreditLines',\n",
        "    'InterestRate', 'LoanTerm', 'DTIRatio']] = num_imputer.fit_transform(df[['Age', 'Income', 'LoanAmount', 'CreditScore',\n",
        "    'MonthsEmployed', 'NumCreditLines', 'InterestRate', 'LoanTerm', 'DTIRatio']])\n",
        "\n",
        "# Fill missing categorical values with \"Unknown\"\n",
        "df[['Education', 'EmploymentType', 'MaritalStatus', 'LoanPurpose']] = df[['Education', 'EmploymentType',\n",
        "                                                                          'MaritalStatus', 'LoanPurpose']].fillna(\"Unknown\")\n",
        "\n",
        "# Convert binary categorical features\n",
        "df['HasMortgage'] = df['HasMortgage'].map({'Yes': 1, 'No': 0})\n",
        "df['HasDependents'] = df['HasDependents'].map({'Yes': 1, 'No': 0})\n",
        "df['HasCoSigner'] = df['HasCoSigner'].map({'Yes': 1, 'No': 0})\n",
        "\n",
        "# Feature Engineering: Add Loan-to-Income Ratio\n",
        "df[\"Loan_to_Income_Ratio\"] = df[\"LoanAmount\"] / df[\"Income\"]\n",
        "df[\"Loan_to_Income_Ratio\"] = df[\"Loan_to_Income_Ratio\"].fillna(df[\"Loan_to_Income_Ratio\"].median())  # Fix inplace warning\n",
        "\n",
        "# Define features and target variable\n",
        "X = df[['Age', 'Income', 'LoanAmount', 'CreditScore', 'MonthsEmployed', 'NumCreditLines', 'InterestRate', 'LoanTerm', 'DTIRatio',\n",
        "        'Education', 'EmploymentType', 'MaritalStatus', 'HasMortgage', 'HasDependents', 'LoanPurpose', 'HasCoSigner', 'Loan_to_Income_Ratio']]\n",
        "y = df['Default']\n",
        "\n",
        "# Encode categorical variables\n",
        "column_transformer = ColumnTransformer([\n",
        "    ('encoder', OneHotEncoder(handle_unknown='ignore'), ['Education', 'EmploymentType', 'MaritalStatus', 'LoanPurpose'])\n",
        "], remainder='passthrough')\n",
        "\n",
        "# Split dataset into training and testing sets\n",
        "X_train, X_test, y_train, y_test = train_test_split(X, y, test_size=0.2, random_state=42)\n",
        "\n",
        "# Standardize numerical features\n",
        "scaler = StandardScaler()\n",
        "X_train_scaled = scaler.fit_transform(column_transformer.fit_transform(X_train))\n",
        "X_test_scaled = scaler.transform(column_transformer.transform(X_test))\n",
        "\n",
        "# Check for NaNs in transformed data\n",
        "if np.isnan(X_train_scaled).sum() > 0 or np.isnan(X_test_scaled).sum() > 0:\n",
        "    print(\"Warning: NaN values still exist in processed data!\")\n",
        "    # Drop rows with NaNs before model training\n",
        "    X_train_scaled = pd.DataFrame(X_train_scaled).dropna().to_numpy()\n",
        "    y_train = y_train.loc[X_train.index]  # Align y_train\n",
        "\n",
        "# Train Models\n",
        "logreg = LogisticRegression(max_iter=1000)\n",
        "rf = RandomForestClassifier(n_estimators=200, max_depth=10, random_state=42)\n",
        "gb = GradientBoostingClassifier(n_estimators=200, learning_rate=0.05, max_depth=5, random_state=42)\n",
        "\n",
        "logreg.fit(X_train_scaled, y_train)\n",
        "rf.fit(X_train_scaled, y_train)\n",
        "gb.fit(X_train_scaled, y_train)\n",
        "\n",
        "# Save models\n",
        "joblib.dump(logreg, \"logistic_regression.pkl\")\n",
        "joblib.dump(rf, \"random_forest.pkl\")\n",
        "joblib.dump(gb, \"gradient_boosting.pkl\")\n",
        "joblib.dump(scaler, \"scaler.pkl\")\n",
        "joblib.dump(column_transformer, \"column_transformer.pkl\")\n",
        "\n",
        "# Evaluate Models\n",
        "y_pred_logreg = logreg.predict(X_test_scaled)\n",
        "y_pred_rf = rf.predict(X_test_scaled)\n",
        "y_pred_gb = gb.predict(X_test_scaled)\n",
        "\n",
        "print(f\"Logistic Regression Accuracy: {accuracy_score(y_test, y_pred_logreg):.4f}\")\n",
        "print(f\"Random Forest Accuracy: {accuracy_score(y_test, y_pred_rf):.4f}\")\n",
        "print(f\"Gradient Boosting Accuracy: {accuracy_score(y_test, y_pred_gb):.4f}\")\n"
      ],
      "metadata": {
        "id": "oRd7q4d-bBLY",
        "colab": {
          "base_uri": "https://localhost:8080/"
        },
        "outputId": "82b36548-88c0-4ac6-fa2f-b4a2e378a314"
      },
      "execution_count": null,
      "outputs": [
        {
          "output_type": "stream",
          "name": "stdout",
          "text": [
            "Logistic Regression Accuracy: 0.8880\n",
            "Random Forest Accuracy: 0.8865\n",
            "Gradient Boosting Accuracy: 0.8876\n"
          ]
        }
      ]
    },
    {
      "cell_type": "code",
      "source": [
        "import numpy as np\n",
        "import pandas as pd\n",
        "import matplotlib.pyplot as plt\n",
        "import seaborn as sns\n",
        "from sklearn.metrics import roc_curve, auc\n",
        "import matplotlib.pyplot as plt\n",
        "\n",
        "# Create DataFrame for predictions\n",
        "predictions_df = pd.DataFrame({\n",
        "    'Actual': y_test,\n",
        "    'Logistic Regression': y_pred_logreg,\n",
        "    'Random Forest': y_pred_rf,\n",
        "    'Gradient Boosting': y_pred_gb\n",
        "})\n",
        "\n",
        "# Calculate ROC curve and AUC for each model\n",
        "fpr_logreg, tpr_logreg, _ = roc_curve(predictions_df['Actual'], predictions_df['Logistic Regression'])\n",
        "fpr_rf, tpr_rf, _ = roc_curve(predictions_df['Actual'], predictions_df['Random Forest'])\n",
        "fpr_gb, tpr_gb, _ = roc_curve(predictions_df['Actual'], predictions_df['Gradient Boosting'])\n",
        "\n",
        "roc_auc_logreg = auc(fpr_logreg, tpr_logreg)\n",
        "roc_auc_rf = auc(fpr_rf, tpr_rf)\n",
        "roc_auc_gb = auc(fpr_gb, tpr_gb)\n",
        "\n",
        "# Plot ROC Curve for all models\n",
        "plt.figure(figsize=(10, 6))\n",
        "plt.plot(fpr_logreg, tpr_logreg, color='blue', lw=2, label=f'Logistic Regression (AUC = {roc_auc_logreg:.2f})')\n",
        "plt.plot(fpr_rf, tpr_rf, color='green', lw=2, label=f'Random Forest (AUC = {roc_auc_rf:.2f})')\n",
        "plt.plot(fpr_gb, tpr_gb, color='purple', lw=2, label=f'Gradient Boosting (AUC = {roc_auc_gb:.2f})')\n",
        "\n",
        "# Plot the diagonal line for random chance (No skill)\n",
        "plt.plot([0, 1], [0, 1], color='gray', linestyle='--')\n",
        "\n",
        "# Set plot labels and title\n",
        "plt.title('Receiver Operating Characteristic (ROC) Curve')\n",
        "plt.xlabel('False Positive Rate')\n",
        "plt.ylabel('True Positive Rate')\n",
        "plt.legend(loc='lower right')\n",
        "\n",
        "# Show the plot\n",
        "plt.show()\n"
      ],
      "metadata": {
        "colab": {
          "base_uri": "https://localhost:8080/",
          "height": 564
        },
        "id": "40nOqOem40Yr",
        "outputId": "4105b112-0239-420f-9bb5-7272b7093bab"
      },
      "execution_count": null,
      "outputs": [
        {
          "output_type": "display_data",
          "data": {
            "text/plain": [
              "<Figure size 1000x600 with 1 Axes>"
            ],
            "image/png": "[encoded data removed]"
          },
          "metadata": {}
        }
      ]
    },
    {
      "cell_type": "code",
      "source": [],
      "metadata": {
        "id": "lf6QDqF140V6"
      },
      "execution_count": null,
      "outputs": []
    },
    {
      "cell_type": "code",
      "source": [],
      "metadata": {
        "id": "x-nc_Sj-40TH"
      },
      "execution_count": null,
      "outputs": []
    },
    {
      "cell_type": "code",
      "source": [],
      "metadata": {
        "id": "u2sVVm1740P4"
      },
      "execution_count": null,
      "outputs": []
    },
    {
      "cell_type": "code",
      "source": [],
      "metadata": {
        "id": "AelqN0oi40MQ"
      },
      "execution_count": null,
      "outputs": []
    },
    {
      "cell_type": "code",
      "source": [
        "import numpy as np\n",
        "import pandas as pd\n",
        "import joblib\n",
        "from sklearn.preprocessing import StandardScaler, OneHotEncoder\n",
        "from sklearn.compose import ColumnTransformer\n",
        "\n",
        "\n",
        "# Load trained models and preprocessing objects\n",
        "logreg = joblib.load(\"logistic_regression.pkl\")\n",
        "rf = joblib.load(\"random_forest.pkl\")\n",
        "gb = joblib.load(\"gradient_boosting.pkl\")\n",
        "scaler = joblib.load(\"scaler.pkl\")\n",
        "column_transformer = joblib.load(\"column_transformer.pkl\")\n",
        "\n",
        "# Function to validate user inputs\n",
        "def get_valid_input(prompt, dtype, valid_range=None, options=None):\n",
        "    while True:\n",
        "        try:\n",
        "            value = input(prompt).strip()\n",
        "\n",
        "            # Convert input to the required type\n",
        "            if dtype == int:\n",
        "                value = int(value)\n",
        "            elif dtype == float:\n",
        "                value = float(value)\n",
        "\n",
        "            # Validate range for numerical inputs\n",
        "            if valid_range and not (valid_range[0] <= value <= valid_range[1]):\n",
        "                print(f\"❌ Error: Value must be between {valid_range[0]} and {valid_range[1]}. Try again.\")\n",
        "                continue\n",
        "\n",
        "            # Validate categorical options\n",
        "            if options and value not in options:\n",
        "                print(f\"❌ Error: Please enter one of the following options: {', '.join(options)}. Try again.\")\n",
        "                continue\n",
        "\n",
        "            return value\n",
        "\n",
        "        except ValueError:\n",
        "            print(\"❌ Error: Invalid format. Please enter a correct value.\")\n",
        "\n",
        "def loan_approval_calculator():\n",
        "    print(\"\\n📌 **Loan Approval Calculator**\")\n",
        "\n",
        "    # Collect user input with validation\n",
        "    age = get_valid_input(\"Enter your age (18-100): \", int, (18, 100))\n",
        "    income = get_valid_input(\"Enter your annual income: \", float)\n",
        "    loan_amount = get_valid_input(\"Enter your loan amount: \", float)\n",
        "    credit_score = get_valid_input(\"Enter your credit score (300-850): \", int, (300, 850))\n",
        "    months_employed = get_valid_input(\"Enter number of months employed: \", int, (0, 600))\n",
        "    num_credit_lines = get_valid_input(\"Enter number of active credit lines (0-50): \", int, (0, 50))\n",
        "    interest_rate = get_valid_input(\"Enter loan interest rate (0-50%): \", float, (0, 50))\n",
        "    loan_term = get_valid_input(\"Enter loan term in months (12-360): \", int, (12, 360))\n",
        "    dti_ratio = get_valid_input(\"Enter your Debt-to-Income ratio: \", float)\n",
        "\n",
        "    # Validate categorical options\n",
        "    education = get_valid_input(\"Enter your education level (High School/College/Graduate): \", str, options=[\"High School\", \"College\", \"Graduate\"])\n",
        "    employment_type = get_valid_input(\"Enter your employment type (Full-time/Part-time/Unemployed): \", str, options=[\"Full-time\", \"Part-time\", \"Unemployed\"])\n",
        "    marital_status = get_valid_input(\"Enter your marital status (Single/Married/Divorced): \", str, options=[\"Single\", \"Married\", \"Divorced\"])\n",
        "    loan_purpose = get_valid_input(\"Enter loan purpose (Car/Home/Business/Personal): \", str, options=[\"Car\", \"Home\", \"Business\", \"Personal\"])\n",
        "\n",
        "    # Validate Yes/No questions\n",
        "    has_mortgage = get_valid_input(\"Do you have a mortgage? (Yes/No): \", str, options=[\"Yes\", \"No\"])\n",
        "    has_dependents = get_valid_input(\"Do you have dependents? (Yes/No): \", str, options=[\"Yes\", \"No\"])\n",
        "    has_cosigner = get_valid_input(\"Do you have a cosigner? (Yes/No): \", str, options=[\"Yes\", \"No\"])\n",
        "\n",
        "    # Convert Yes/No answers to binary values\n",
        "    has_mortgage = 1 if has_mortgage == \"Yes\" else 0\n",
        "    has_dependents = 1 if has_dependents == \"Yes\" else 0\n",
        "    has_cosigner = 1 if has_cosigner == \"Yes\" else 0\n",
        "\n",
        "    # Feature Engineering: Loan-to-Income Ratio\n",
        "    loan_to_income_ratio = loan_amount / income if income > 0 else 0\n",
        "\n",
        "    # Create DataFrame for input and include Loan_to_Income_Ratio\n",
        "    user_data = pd.DataFrame({\n",
        "        'Age': [age],\n",
        "        'Income': [income],\n",
        "        'LoanAmount': [loan_amount],\n",
        "        'CreditScore': [credit_score],\n",
        "        'MonthsEmployed': [months_employed],\n",
        "        'NumCreditLines': [num_credit_lines],\n",
        "        'InterestRate': [interest_rate],\n",
        "        'LoanTerm': [loan_term],\n",
        "        'DTIRatio': [dti_ratio],\n",
        "        'Education': [education],\n",
        "        'EmploymentType': [employment_type],\n",
        "        'MaritalStatus': [marital_status],\n",
        "        'HasMortgage': [has_mortgage],\n",
        "        'HasDependents': [has_dependents],\n",
        "        'LoanPurpose': [loan_purpose],\n",
        "        'HasCoSigner': [has_cosigner],\n",
        "        'Loan_to_Income_Ratio': [loan_to_income_ratio]  # Add new feature\n",
        "    })\n",
        "\n",
        "    # Transform categorical features and scale numeric features\n",
        "    try:\n",
        "        user_data_transformed = column_transformer.transform(user_data)\n",
        "        user_data_scaled = scaler.transform(user_data_transformed)\n",
        "    except Exception as e:\n",
        "        print(f\"\\n❌ Error in data transformation: {e}\")\n",
        "        return\n",
        "\n",
        "    # Make predictions using all models\n",
        "    logreg_prediction = logreg.predict(user_data_scaled)\n",
        "    rf_prediction = rf.predict(user_data_scaled)\n",
        "    gb_prediction = gb.predict(user_data_scaled)\n",
        "\n",
        "    # Display predictions for all models\n",
        "    print(\"\\n🔹 **Loan Approval Prediction (0 = Not Approved, 1 = Approved)** 🔹\")\n",
        "    print(f\"📌 Logistic Regression: {logreg_prediction[0]}\")\n",
        "    print(f\"📌 Random Forest: {rf_prediction[0]}\")\n",
        "    print(f\"📌 Gradient Boosting: {gb_prediction[0]}\")\n",
        "\n",
        "    # **Majority Vote Decision**: Loan is approved if at least 2 models predict approval\n",
        "    final_decision = (logreg_prediction[0] + rf_prediction[0] + gb_prediction[0]) >= 2\n",
        "    print(f\"\\n✅ **Final Loan Approval (Majority Vote):** {'Approved' if final_decision else 'Not Approved'}\")\n"
      ],
      "metadata": {
        "id": "wsCDtRR7olHL"
      },
      "execution_count": null,
      "outputs": []
    },
    {
      "cell_type": "code",
      "source": [
        "# Call the loan approval calculator\n",
        "loan_approval_calculator()"
      ],
      "metadata": {
        "id": "8U01oV9LHZo_",
        "colab": {
          "base_uri": "https://localhost:8080/"
        },
        "outputId": "cf2883cf-99bf-492d-c24b-eef8a84f44c7"
      },
      "execution_count": null,
      "outputs": [
        {
          "output_type": "stream",
          "name": "stdout",
          "text": [
            "\n",
            "📌 **Loan Approval Calculator**\n",
            "Enter your age (18-100): 25\n",
            "Enter your annual income: 85000\n",
            "Enter your loan amount: 30000\n",
            "Enter your credit score (300-850): 750\n",
            "Enter number of months employed: 24\n",
            "Enter number of active credit lines (0-50): 2\n",
            "Enter loan interest rate (0-50%): 15.5\n",
            "Enter loan term in months (12-360): 18\n",
            "Enter your Debt-to-Income ratio: 0.21\n",
            "Enter your education level (High School/College/Graduate): Graduate\n",
            "Enter your employment type (Full-time/Part-time/Unemployed): Full-time\n",
            "Enter your marital status (Single/Married/Divorced): Single\n",
            "Enter loan purpose (Car/Home/Business/Personal): Car\n",
            "Do you have a mortgage? (Yes/No): No\n",
            "Do you have dependents? (Yes/No): No\n",
            "Do you have a cosigner? (Yes/No): No\n",
            "\n",
            "🔹 **Loan Approval Prediction (0 = Not Approved, 1 = Approved)** 🔹\n",
            "📌 Logistic Regression: 0\n",
            "📌 Random Forest: 0\n",
            "📌 Gradient Boosting: 0\n",
            "\n",
            "✅ **Final Loan Approval (Majority Vote):** Not Approved\n"
          ]
        }
      ]
    },
    {
      "cell_type": "code",
      "source": [
        "# Call the loan approval calculator\n",
        "loan_approval_calculator()"
      ],
      "metadata": {
        "id": "AB9QIFXJ6HWS"
      },
      "execution_count": null,
      "outputs": []
    }
  ]
}